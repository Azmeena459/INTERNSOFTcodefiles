{
 "cells": [
  {
   "cell_type": "markdown",
   "metadata": {
    "colab_type": "text",
    "id": "view-in-github"
   },
   "source": [
    "<a href=\"https://colab.research.google.com/github/navyatheethira/INTERNSOFTcodefiles/blob/main/NAV5.ipynb\" target=\"_parent\"><img src=\"https://colab.research.google.com/assets/colab-badge.svg\" alt=\"Open In Colab\"/></a>"
   ]
  },
  {
   "cell_type": "markdown",
   "metadata": {
    "id": "1ZokGI09d_zs"
   },
   "source": [
    "**Modules and Packages**"
   ]
  },
  {
   "cell_type": "code",
   "execution_count": 2,
   "metadata": {
    "id": "ci8OY6nVdsrI"
   },
   "outputs": [],
   "source": [
    "import math"
   ]
  },
  {
   "cell_type": "code",
   "execution_count": 3,
   "metadata": {
    "colab": {
     "base_uri": "https://localhost:8080/"
    },
    "id": "WWPzMGWgdn_8",
    "outputId": "50ba4e30-7826-4689-85d1-28cd298d38b3"
   },
   "outputs": [
    {
     "data": {
      "text/plain": [
       "3"
      ]
     },
     "execution_count": 3,
     "metadata": {},
     "output_type": "execute_result"
    }
   ],
   "source": [
    "math.ceil(2.4)"
   ]
  },
  {
   "cell_type": "code",
   "execution_count": 6,
   "metadata": {
    "colab": {
     "base_uri": "https://localhost:8080/"
    },
    "id": "9PhG_iF3dkEM",
    "outputId": "67be4788-be4d-480a-c0b1-98dbe2551300"
   },
   "outputs": [
    {
     "data": {
      "text/plain": [
       "2"
      ]
     },
     "execution_count": 6,
     "metadata": {},
     "output_type": "execute_result"
    }
   ],
   "source": [
    "math.floor(2.4)"
   ]
  },
  {
   "cell_type": "markdown",
   "metadata": {
    "id": "JArFkm1-eMm1"
   },
   "source": [
    "**Exploring Built-In Modules**"
   ]
  },
  {
   "cell_type": "code",
   "execution_count": 9,
   "metadata": {
    "colab": {
     "base_uri": "https://localhost:8080/"
    },
    "id": "2Sn_1i9KdfrL",
    "outputId": "5f1498ba-7d1f-425b-b046-51f88bc8b04c"
   },
   "outputs": [
    {
     "name": "stdout",
     "output_type": "stream",
     "text": [
      "['__doc__', '__loader__', '__name__', '__package__', '__spec__', 'acos', 'acosh', 'asin', 'asinh', 'atan', 'atan2', 'atanh', 'cbrt', 'ceil', 'comb', 'copysign', 'cos', 'cosh', 'degrees', 'dist', 'e', 'erf', 'erfc', 'exp', 'exp2', 'expm1', 'fabs', 'factorial', 'floor', 'fmod', 'frexp', 'fsum', 'gamma', 'gcd', 'hypot', 'inf', 'isclose', 'isfinite', 'isinf', 'isnan', 'isqrt', 'lcm', 'ldexp', 'lgamma', 'log', 'log10', 'log1p', 'log2', 'modf', 'nan', 'nextafter', 'perm', 'pi', 'pow', 'prod', 'radians', 'remainder', 'sin', 'sinh', 'sqrt', 'sumprod', 'tan', 'tanh', 'tau', 'trunc', 'ulp']\n"
     ]
    }
   ],
   "source": [
    "print(dir(math))"
   ]
  },
  {
   "cell_type": "code",
   "execution_count": 11,
   "metadata": {
    "colab": {
     "base_uri": "https://localhost:8080/"
    },
    "id": "j-A_uNlHdeKZ",
    "outputId": "f1ee2963-8121-4999-b7cd-036144a1df8c"
   },
   "outputs": [
    {
     "name": "stdout",
     "output_type": "stream",
     "text": [
      "Help on built-in function ceil in module math:\n",
      "\n",
      "ceil(x, /)\n",
      "    Return the ceiling of x as an Integral.\n",
      "\n",
      "    This is the smallest integer >= x.\n",
      "\n"
     ]
    }
   ],
   "source": [
    "help(math.ceil)"
   ]
  },
  {
   "cell_type": "markdown",
   "metadata": {
    "id": "bDJQFVwveXod"
   },
   "source": [
    "Writing Modules and Packages: Creating packages with .py extension and calling the packages by using import command.\n",
    "Packages are name-spaces which contains multiple modules and poackages themselves\n",
    "Each package in python is a directory which must contain special file called init.py, consider an eg directory foo as package & bar as module"
   ]
  },
  {
   "cell_type": "code",
   "execution_count": 14,
   "metadata": {
    "id": "xmxrmrsndXEP"
   },
   "outputs": [
    {
     "ename": "ModuleNotFoundError",
     "evalue": "No module named 'foo'",
     "output_type": "error",
     "traceback": [
      "\u001b[1;31m---------------------------------------------------------------------------\u001b[0m",
      "\u001b[1;31mModuleNotFoundError\u001b[0m                       Traceback (most recent call last)",
      "Cell \u001b[1;32mIn[14], line 1\u001b[0m\n\u001b[1;32m----> 1\u001b[0m \u001b[38;5;28;01mimport\u001b[39;00m \u001b[38;5;21;01mfoo\u001b[39;00m\u001b[38;5;21;01m.\u001b[39;00m\u001b[38;5;21;01mbar\u001b[39;00m\n",
      "\u001b[1;31mModuleNotFoundError\u001b[0m: No module named 'foo'"
     ]
    }
   ],
   "source": [
    "import foo.bar"
   ]
  },
  {
   "cell_type": "code",
   "execution_count": 16,
   "metadata": {
    "id": "rs7krCuIdRDp"
   },
   "outputs": [
    {
     "ename": "ModuleNotFoundError",
     "evalue": "No module named 'foo'",
     "output_type": "error",
     "traceback": [
      "\u001b[1;31m---------------------------------------------------------------------------\u001b[0m",
      "\u001b[1;31mModuleNotFoundError\u001b[0m                       Traceback (most recent call last)",
      "Cell \u001b[1;32mIn[16], line 1\u001b[0m\n\u001b[1;32m----> 1\u001b[0m \u001b[38;5;28;01mfrom\u001b[39;00m \u001b[38;5;21;01mfoo\u001b[39;00m \u001b[38;5;28;01mimport\u001b[39;00m bar\n",
      "\u001b[1;31mModuleNotFoundError\u001b[0m: No module named 'foo'"
     ]
    }
   ],
   "source": [
    "from foo import bar"
   ]
  },
  {
   "cell_type": "code",
   "execution_count": 18,
   "metadata": {
    "id": "80sYeLKLdNEz"
   },
   "outputs": [
    {
     "ename": "NameError",
     "evalue": "name '__init__' is not defined",
     "output_type": "error",
     "traceback": [
      "\u001b[1;31m---------------------------------------------------------------------------\u001b[0m",
      "\u001b[1;31mNameError\u001b[0m                                 Traceback (most recent call last)",
      "Cell \u001b[1;32mIn[18], line 1\u001b[0m\n\u001b[1;32m----> 1\u001b[0m \u001b[38;5;21m__init__\u001b[39m\u001b[38;5;241m.\u001b[39mpy\n\u001b[0;32m      2\u001b[0m __all__\u001b[38;5;241m=\u001b[39m[\u001b[38;5;124m\"\u001b[39m\u001b[38;5;124mbar\u001b[39m\u001b[38;5;124m\"\u001b[39m]\n",
      "\u001b[1;31mNameError\u001b[0m: name '__init__' is not defined"
     ]
    }
   ],
   "source": [
    "__init__.py\n",
    "__all__=[\"bar\"]"
   ]
  },
  {
   "cell_type": "markdown",
   "metadata": {
    "id": "zX7C-H_4e_R5"
   },
   "source": [
    "**Errors and Exception Handling**"
   ]
  },
  {
   "cell_type": "code",
   "execution_count": 21,
   "metadata": {
    "colab": {
     "base_uri": "https://localhost:8080/",
     "height": 106
    },
    "id": "CXezFOvQdHw6",
    "outputId": "a883eedd-2730-4a85-b739-17dc3098767b"
   },
   "outputs": [
    {
     "ename": "SyntaxError",
     "evalue": "unterminated string literal (detected at line 1) (1679058590.py, line 1)",
     "output_type": "error",
     "traceback": [
      "\u001b[1;36m  Cell \u001b[1;32mIn[21], line 1\u001b[1;36m\u001b[0m\n\u001b[1;33m    print('Hello)\u001b[0m\n\u001b[1;37m          ^\u001b[0m\n\u001b[1;31mSyntaxError\u001b[0m\u001b[1;31m:\u001b[0m unterminated string literal (detected at line 1)\n"
     ]
    }
   ],
   "source": [
    "print('Hello)"
   ]
  },
  {
   "cell_type": "markdown",
   "metadata": {
    "id": "zvkzw_F1fH-4"
   },
   "source": [
    "This indicates the End of Line(EOL) error because of the missing single quotes.\n",
    "Though code is syntactically correct it may cause an error when attempt is made to execute it.\n",
    "Errors detected during execution are called Exceptions & are not unconditonally fatal."
   ]
  },
  {
   "cell_type": "markdown",
   "metadata": {
    "id": "KLLxVTEffKM8"
   },
   "source": [
    "**try and except**"
   ]
  },
  {
   "cell_type": "code",
   "execution_count": 25,
   "metadata": {
    "colab": {
     "base_uri": "https://localhost:8080/"
    },
    "id": "53TVjNb1dCMI",
    "outputId": "14f75682-6e83-4688-b801-11e73adf908c"
   },
   "outputs": [
    {
     "name": "stdout",
     "output_type": "stream",
     "text": [
      "Content written successfully\n"
     ]
    }
   ],
   "source": [
    "try:\n",
    "    f=open('testfile','w')\n",
    "    f.write('Write this code')\n",
    "except IOError:\n",
    "    print('Error:Could not find file or read data')\n",
    "else:\n",
    "    print('Content written successfully')\n",
    "    f.close()"
   ]
  },
  {
   "cell_type": "markdown",
   "metadata": {
    "id": "KIeGYTYGfZXv"
   },
   "source": [
    "**When we dont give write permissions**"
   ]
  },
  {
   "cell_type": "code",
   "execution_count": 28,
   "metadata": {
    "colab": {
     "base_uri": "https://localhost:8080/"
    },
    "id": "5rjUvJioc_9f",
    "outputId": "49c4d42b-3dc6-4429-c300-143853dc4954"
   },
   "outputs": [
    {
     "name": "stdout",
     "output_type": "stream",
     "text": [
      "Error:Could not find file or read data\n"
     ]
    }
   ],
   "source": [
    "try:\n",
    "    f=open('testfile','r')\n",
    "    f.write(\"Write this code\")\n",
    "except IOError:\n",
    "    print(\"Error:Could not find file or read data\")\n",
    "else:\n",
    "    print(\"Content written successfully\")\n",
    "    f.close()\n"
   ]
  },
  {
   "cell_type": "markdown",
   "metadata": {
    "id": "hjRyLN8QfkBI"
   },
   "source": [
    "**If we were not sure that exceptions would occur**"
   ]
  },
  {
   "cell_type": "code",
   "execution_count": 31,
   "metadata": {
    "colab": {
     "base_uri": "https://localhost:8080/"
    },
    "id": "6cz42VHac5rO",
    "outputId": "2ae6cdac-c5bf-4072-9186-df3490c40088"
   },
   "outputs": [
    {
     "name": "stdout",
     "output_type": "stream",
     "text": [
      "Content written successfully\n"
     ]
    }
   ],
   "source": [
    "try:\n",
    "    f=open('testfile','w')\n",
    "    f.write(\"Write this code\")\n",
    "except:\n",
    "    print(\"Error:Could not find file or read data\")\n",
    "else:\n",
    "    print(\"Content written successfully\")\n",
    "    f.close()"
   ]
  },
  {
   "cell_type": "markdown",
   "metadata": {
    "id": "w7WQUB7Yfsmy"
   },
   "source": [
    "**finally** :Block of code will always run regardless if there was an exception in the try block code."
   ]
  },
  {
   "cell_type": "code",
   "execution_count": 34,
   "metadata": {
    "colab": {
     "base_uri": "https://localhost:8080/"
    },
    "id": "HMYTHUU5cwZj",
    "outputId": "bc5f36b7-479c-453b-abf4-bbd4c377ff6d"
   },
   "outputs": [
    {
     "name": "stdout",
     "output_type": "stream",
     "text": [
      "Always executes the block of code\n"
     ]
    }
   ],
   "source": [
    "try:\n",
    "    f=open(\"testfile\",\"w\")\n",
    "    f.write(\"Write this test code\")\n",
    "finally:\n",
    "    print(\"Always executes the block of code\")"
   ]
  },
  {
   "cell_type": "code",
   "execution_count": 36,
   "metadata": {
    "colab": {
     "base_uri": "https://localhost:8080/"
    },
    "id": "vs4P9MYFchlL",
    "outputId": "313a9509-3f76-4c12-ad51-68fc6532e767"
   },
   "outputs": [
    {
     "name": "stdin",
     "output_type": "stream",
     "text": [
      "Please enter a valid integer:  azmi\n"
     ]
    },
    {
     "name": "stdout",
     "output_type": "stream",
     "text": [
      "Looks like you did not enter a valid integer! \n",
      "Finally, I executed the code\n"
     ]
    },
    {
     "ename": "UnboundLocalError",
     "evalue": "cannot access local variable 'val' where it is not associated with a value",
     "output_type": "error",
     "traceback": [
      "\u001b[1;31m---------------------------------------------------------------------------\u001b[0m",
      "\u001b[1;31mUnboundLocalError\u001b[0m                         Traceback (most recent call last)",
      "Cell \u001b[1;32mIn[36], line 10\u001b[0m\n\u001b[0;32m      7\u001b[0m         \u001b[38;5;28mprint\u001b[39m(\u001b[38;5;124m\"\u001b[39m\u001b[38;5;124mFinally, I executed the code\u001b[39m\u001b[38;5;124m\"\u001b[39m)\n\u001b[0;32m      8\u001b[0m     \u001b[38;5;28mprint\u001b[39m(val)\n\u001b[1;32m---> 10\u001b[0m askint()\n",
      "Cell \u001b[1;32mIn[36], line 8\u001b[0m, in \u001b[0;36maskint\u001b[1;34m()\u001b[0m\n\u001b[0;32m      6\u001b[0m \u001b[38;5;28;01mfinally\u001b[39;00m:\n\u001b[0;32m      7\u001b[0m     \u001b[38;5;28mprint\u001b[39m(\u001b[38;5;124m\"\u001b[39m\u001b[38;5;124mFinally, I executed the code\u001b[39m\u001b[38;5;124m\"\u001b[39m)\n\u001b[1;32m----> 8\u001b[0m \u001b[38;5;28mprint\u001b[39m(val)\n",
      "\u001b[1;31mUnboundLocalError\u001b[0m: cannot access local variable 'val' where it is not associated with a value"
     ]
    }
   ],
   "source": [
    "def askint():\n",
    "    try:\n",
    "        val = int(input(\"Please enter a valid integer: \"))\n",
    "    except:\n",
    "        print(\"Looks like you did not enter a valid integer! \")\n",
    "    finally:\n",
    "        print(\"Finally, I executed the code\")\n",
    "    print(val)\n",
    "\n",
    "askint()\n"
   ]
  },
  {
   "cell_type": "code",
   "execution_count": 38,
   "metadata": {
    "colab": {
     "base_uri": "https://localhost:8080/",
     "height": 349
    },
    "id": "Cmbom7vhcTuQ",
    "outputId": "f15278ab-d712-4bc5-aa51-350ec3af8ea2"
   },
   "outputs": [
    {
     "name": "stdin",
     "output_type": "stream",
     "text": [
      "Please enter a valid integer:  123\n"
     ]
    },
    {
     "name": "stdout",
     "output_type": "stream",
     "text": [
      "F+*inally, I executed the code\n",
      "123\n"
     ]
    }
   ],
   "source": [
    "def askint():\n",
    "    try:\n",
    "        val = int(input(\"Please enter a valid integer: \"))\n",
    "    except:\n",
    "        print(\"Looks like you did not enter a valid integer! \")\n",
    "    finally:\n",
    "        print(\"F+*inally, I executed the code\")\n",
    "    print(val)\n",
    "\n",
    "askint()"
   ]
  },
  {
   "cell_type": "code",
   "execution_count": 40,
   "metadata": {
    "colab": {
     "base_uri": "https://localhost:8080/"
    },
    "id": "SdCb-DAscHJz",
    "outputId": "c7b925ad-2383-4e7b-d087-67e4adcc2a7d"
   },
   "outputs": [
    {
     "name": "stdin",
     "output_type": "stream",
     "text": [
      "Please enter a valid integer:  azmi\n"
     ]
    },
    {
     "name": "stdout",
     "output_type": "stream",
     "text": [
      "Looks like you did not enter a valid integer! \n"
     ]
    },
    {
     "name": "stdin",
     "output_type": "stream",
     "text": [
      "Try Again-Please enter a valid integer 123\n"
     ]
    },
    {
     "name": "stdout",
     "output_type": "stream",
     "text": [
      "Finally, I executed the code\n",
      "123\n"
     ]
    }
   ],
   "source": [
    "def askint():\n",
    "    try:\n",
    "        val = int(input(\"Please enter a valid integer: \"))\n",
    "    except:\n",
    "        print(\"Looks like you did not enter a valid integer! \")\n",
    "        val=int(input(\"Try Again-Please enter a valid integer\"))\n",
    "    finally:\n",
    "        print(\"Finally, I executed the code\")\n",
    "    print(val)\n",
    "\n",
    "askint()\n"
   ]
  },
  {
   "cell_type": "code",
   "execution_count": 42,
   "metadata": {
    "colab": {
     "base_uri": "https://localhost:8080/"
    },
    "id": "wfzxYoAQbviD",
    "outputId": "5d8681ca-fa7a-4142-edc1-aeaaa281d246"
   },
   "outputs": [
    {
     "name": "stdin",
     "output_type": "stream",
     "text": [
      "Please enter a valid integer:  azmi\n"
     ]
    },
    {
     "name": "stdout",
     "output_type": "stream",
     "text": [
      "Looks like you did not enter a valid integer! \n",
      "Finally, I executed the code\n"
     ]
    },
    {
     "name": "stdin",
     "output_type": "stream",
     "text": [
      "Please enter a valid integer:  123\n"
     ]
    },
    {
     "name": "stdout",
     "output_type": "stream",
     "text": [
      "Yep ..!Its an valid integer\n",
      "Finally, I executed the code\n"
     ]
    }
   ],
   "source": [
    "def askint():\n",
    "    while True:\n",
    "        try:\n",
    "            val = int(input(\"Please enter a valid integer: \"))\n",
    "        except:\n",
    "            print(\"Looks like you did not enter a valid integer! \")\n",
    "            continue\n",
    "        else:\n",
    "            print(\"Yep ..!Its an valid integer\")\n",
    "            break\n",
    "        finally:\n",
    "            print(\"Finally, I executed the code\")\n",
    "        print(val)\n",
    "\n",
    "askint()\n"
   ]
  },
  {
   "cell_type": "markdown",
   "metadata": {
    "id": "35Vm-DxUgWqZ"
   },
   "source": [
    "**Database Connectivity and Operations using Python**"
   ]
  },
  {
   "cell_type": "code",
   "execution_count": 50,
   "metadata": {
    "colab": {
     "base_uri": "https://localhost:8080/"
    },
    "id": "zBHEStXucWDg",
    "outputId": "bb5527e3-5fa8-4c61-f3f0-29f736131e69"
   },
   "outputs": [
    {
     "data": {
      "text/plain": [
       "<sqlite3.Cursor at 0x134ccfe28c0>"
      ]
     },
     "execution_count": 50,
     "metadata": {},
     "output_type": "execute_result"
    }
   ],
   "source": [
    "import sqlite3\n",
    "db=sqlite3.connect(\"my_database1.db\")\n",
    "db.execute(\"drop table if exists grades1\") #execute() is used to manipulate the table\n",
    "db.execute(\"create table grades1(id int, name text,score int)\")\n",
    "db.execute(\"insert into grades1(id,name,score)values(1,'John',86)\")\n",
    "db.execute(\"insert into grades1(id,name,score)values(2,'Smith',96)\")\n",
    "db.execute(\"insert into grades1(id,name,score)values(3,'Safan',100)\")\n",
    "db.execute(\"insert into grades1(id,name,score)values(4,'Azmeena',91)\")\n",
    "db.execute(\"insert into grades1(id,name,score)values(5,'Ayesha',99)\")"
   ]
  },
  {
   "cell_type": "code",
   "execution_count": 52,
   "metadata": {
    "id": "5mMPOlNWa9T1"
   },
   "outputs": [],
   "source": [
    "db.commit()"
   ]
  },
  {
   "cell_type": "code",
   "execution_count": 54,
   "metadata": {
    "colab": {
     "base_uri": "https://localhost:8080/"
    },
    "id": "epdtUfxQbDo6",
    "outputId": "1b297199-8fe5-4fa3-98e4-5f6f4474c1f5"
   },
   "outputs": [
    {
     "name": "stdout",
     "output_type": "stream",
     "text": [
      "(1, 'John', 86)\n",
      "(2, 'Smith', 96)\n",
      "(3, 'Safan', 100)\n",
      "(4, 'Azmeena', 91)\n",
      "(5, 'Ayesha', 99)\n",
      "------------------------------------------------------------\n"
     ]
    }
   ],
   "source": [
    "result=db.execute(\"select * from grades1 order by id\")\n",
    "for row in result:\n",
    "    print(row)\n",
    "print(\"-\"*60)"
   ]
  },
  {
   "cell_type": "code",
   "execution_count": 58,
   "metadata": {
    "colab": {
     "base_uri": "https://localhost:8080/"
    },
    "id": "MgGgWc3ybP7W",
    "outputId": "8e0c5db4-81ec-42f8-937e-90913efa3198"
   },
   "outputs": [
    {
     "name": "stdout",
     "output_type": "stream",
     "text": [
      "(2, 'Smith', 96)\n",
      "------------------------------------------------------------\n"
     ]
    }
   ],
   "source": [
    "result=db.execute(\"select * from grades1 where name='Smith'\")\n",
    "for row in result:\n",
    "    print(row)\n",
    "print(\"-\"*60)"
   ]
  },
  {
   "cell_type": "code",
   "execution_count": 60,
   "metadata": {
    "colab": {
     "base_uri": "https://localhost:8080/"
    },
    "id": "rmfpMFoJbUjq",
    "outputId": "2eddf02a-ba2a-4d3a-dd64-2221ecac00c1"
   },
   "outputs": [
    {
     "name": "stdout",
     "output_type": "stream",
     "text": [
      "(2, 'Smith', 96)\n",
      "(3, 'Safan', 100)\n",
      "(4, 'Azmeena', 91)\n",
      "(5, 'Ayesha', 99)\n",
      "------------------------------------------------------------\n"
     ]
    }
   ],
   "source": [
    "result=db.execute(\"select * from grades1 where score >=90\")\n",
    "for row in result:\n",
    "    print(row)\n",
    "print(\"-\"*60)"
   ]
  },
  {
   "cell_type": "code",
   "execution_count": 62,
   "metadata": {
    "colab": {
     "base_uri": "https://localhost:8080/"
    },
    "id": "xK8PONXJbcVg",
    "outputId": "5fb3b10a-1f55-4568-828e-6bc006f68745"
   },
   "outputs": [
    {
     "name": "stdout",
     "output_type": "stream",
     "text": [
      "('Safan', 100)\n",
      "('Ayesha', 99)\n",
      "('Smith', 96)\n",
      "('Azmeena', 91)\n",
      "('John', 86)\n",
      "------------------------------------------------------------\n"
     ]
    }
   ],
   "source": [
    "result=db.execute(\"select name, score from grades1 order by score desc\")\n",
    "for row in result:\n",
    "    print(row)\n",
    "print(\"-\"*60)"
   ]
  },
  {
   "cell_type": "code",
   "execution_count": 64,
   "metadata": {
    "colab": {
     "base_uri": "https://localhost:8080/"
    },
    "id": "FANOW75Mbm2E",
    "outputId": "a75cb5ff-fe98-4fd3-8a2e-66f6dc3840ff"
   },
   "outputs": [
    {
     "name": "stdout",
     "output_type": "stream",
     "text": [
      "('John', 86)\n",
      "('Azmeena', 91)\n",
      "('Smith', 96)\n",
      "('Ayesha', 99)\n",
      "('Safan', 100)\n",
      "------------------------------------------------------------\n"
     ]
    }
   ],
   "source": [
    "result=db.execute(\"select name, score from grades1 order by score\")\n",
    "for row in result:\n",
    "    print(row)\n",
    "print(\"-\"*60)"
   ]
  },
  {
   "cell_type": "code",
   "execution_count": 66,
   "metadata": {
    "colab": {
     "base_uri": "https://localhost:8080/"
    },
    "id": "X2xjCz5_bsKF",
    "outputId": "e3878ef1-9d6a-4c1d-ee1d-9987ab2d0f52"
   },
   "outputs": [
    {
     "name": "stdout",
     "output_type": "stream",
     "text": [
      "('John', 86)\n",
      "('Azmeena', 91)\n",
      "('Smith', 96)\n",
      "('Ayesha', 99)\n",
      "('Safan', 100)\n"
     ]
    }
   ],
   "source": [
    "result=db.execute(\"select name, score from grades1 order by score\")\n",
    "for row in result:\n",
    "    print(row)"
   ]
  }
 ],
 "metadata": {
  "colab": {
   "authorship_tag": "ABX9TyOBy9/zt0CaWZs9VTARRO0f",
   "include_colab_link": true,
   "provenance": []
  },
  "kernelspec": {
   "display_name": "Python 3 (ipykernel)",
   "language": "python",
   "name": "python3"
  },
  "language_info": {
   "codemirror_mode": {
    "name": "ipython",
    "version": 3
   },
   "file_extension": ".py",
   "mimetype": "text/x-python",
   "name": "python",
   "nbconvert_exporter": "python",
   "pygments_lexer": "ipython3",
   "version": "3.12.4"
  }
 },
 "nbformat": 4,
 "nbformat_minor": 4
}
