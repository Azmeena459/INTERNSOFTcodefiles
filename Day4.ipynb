{
 "cells": [
  {
   "cell_type": "markdown",
   "metadata": {
    "colab_type": "text",
    "id": "view-in-github"
   },
   "source": [
    "<a href=\"https://colab.research.google.com/github/navyatheethira/INTERNSOFTcodefiles/blob/main/nav4.ipynb\" target=\"_parent\"><img src=\"https://colab.research.google.com/assets/colab-badge.svg\" alt=\"Open In Colab\"/></a>"
   ]
  },
  {
   "cell_type": "markdown",
   "metadata": {
    "id": "mDUmMpZMEHgB"
   },
   "source": [
    "**Object Oriented Programming**"
   ]
  },
  {
   "cell_type": "markdown",
   "metadata": {
    "id": "JaW9pxtNEPub"
   },
   "source": [
    "**Creating a class**"
   ]
  },
  {
   "cell_type": "markdown",
   "metadata": {
    "id": "jYp-jf9VEuIE"
   },
   "source": [
    "Syntax:"
   ]
  },
  {
   "cell_type": "code",
   "execution_count": 4,
   "metadata": {
    "id": "EfmZYuUwE4c3"
   },
   "outputs": [],
   "source": [
    "#         class ClassName(base_classes):\n",
    "#             statements\n",
    "#class names must be uppercase"
   ]
  },
  {
   "cell_type": "code",
   "execution_count": 6,
   "metadata": {
    "id": "9Xk0YfLVG5up"
   },
   "outputs": [],
   "source": [
    "class Person:\n",
    "    pass #must be implemented by subclasses\n",
    "Azmi=Person()\n",
    "Azmi.name = \"Azmeena\"\n",
    "Azmi.surname = \"Aysha\"\n",
    "Azmi.year_of_birth = 2002"
   ]
  },
  {
   "cell_type": "code",
   "execution_count": 8,
   "metadata": {
    "colab": {
     "base_uri": "https://localhost:8080/"
    },
    "id": "sPr7oVHEIMpY",
    "outputId": "17075d46-7417-404d-e391-114ab2b88ea3"
   },
   "outputs": [
    {
     "name": "stdout",
     "output_type": "stream",
     "text": [
      "<__main__.Person object at 0x00000234A8C3E4B0>\n",
      "Azmeena Aysha was born in 2002.\n"
     ]
    }
   ],
   "source": [
    "print(Azmi)\n",
    "print(\"%s %s was born in %d.\"%\n",
    "      (Azmi.name, Azmi.surname, Azmi.year_of_birth )) #object's attributes are accessed using dot operator"
   ]
  },
  {
   "cell_type": "code",
   "execution_count": 10,
   "metadata": {
    "id": "lUNMHNi1NgKg"
   },
   "outputs": [],
   "source": [
    "#actual method of creating a class\n",
    "#instance of the Person class bound to the variable Nav\n",
    "class Person:\n",
    "    def __init__(self, name, surname, year_of_birth):#self is a keyword i.e automatically passed and it refers to the object itself\n",
    "        self.name=name\n",
    "        self.surname=surname\n",
    "        self.year_of_birth=year_of_birth"
   ]
  },
  {
   "cell_type": "code",
   "execution_count": 12,
   "metadata": {
    "colab": {
     "base_uri": "https://localhost:8080/"
    },
    "id": "R4GYR_PIP27B",
    "outputId": "8f2e61c9-113d-4477-9d03-25df235496e0"
   },
   "outputs": [
    {
     "name": "stdout",
     "output_type": "stream",
     "text": [
      "<__main__.Person object at 0x00000234A9228C80>\n",
      "Azmeena Abdul Khader was born in 2002.\n"
     ]
    }
   ],
   "source": [
    "Azmee=Person(\"Azmeena\",\"Abdul Khader\",2002)\n",
    "print(Azmee)\n",
    "print(\"%s %s was born in %d.\"% (Azmee.name,Azmee.surname,Azmee.year_of_birth))"
   ]
  },
  {
   "cell_type": "markdown",
   "metadata": {
    "id": "-RHYQsfJVPdC"
   },
   "source": [
    "**Methods**"
   ]
  },
  {
   "cell_type": "code",
   "execution_count": 15,
   "metadata": {
    "colab": {
     "base_uri": "https://localhost:8080/"
    },
    "id": "HgDjtf0aWiLD",
    "outputId": "7a0ea658-9295-4f63-821c-cd62f0526543"
   },
   "outputs": [
    {
     "name": "stdout",
     "output_type": "stream",
     "text": [
      "Azmeena Abdul Khader was born in 2002.\n",
      "22\n"
     ]
    }
   ],
   "source": [
    "class Person:   # __init__ is automatically called by python interpreter\n",
    "    def __init__(self, name, surname, year_of_birth):#self is a keyword i.e automatically passed and it refers to the object itself\n",
    "        self.name=name\n",
    "        self.surname=surname\n",
    "        self.year_of_birth=year_of_birth\n",
    "    def age(self,current_year):# age is regular method which is not called automatically but it's explicitly invoked by the programmer\n",
    "        return current_year-self.year_of_birth\n",
    "    def __str__(self): # __str__ is automatically called when you print the object\n",
    "        return  \"%s %s was born in %d.\"  % (self.name,self.surname,self.year_of_birth )\n",
    "\n",
    "Azmee=Person(\"Azmeena\",\"Abdul Khader\",2002)\n",
    "print(Azmee)\n",
    "print(Azmee.age(2024))"
   ]
  },
  {
   "cell_type": "markdown",
   "metadata": {
    "id": "hT9ERh1ceY_2"
   },
   "source": [
    "**Inheritance**"
   ]
  },
  {
   "cell_type": "code",
   "execution_count": 18,
   "metadata": {
    "colab": {
     "base_uri": "https://localhost:8080/"
    },
    "id": "yKuul0hujYlt",
    "outputId": "14ac6a8e-ebb6-472b-9c91-92fab02ee0b6"
   },
   "outputs": [
    {
     "name": "stdout",
     "output_type": "stream",
     "text": [
      "Abdul Khader was born in 1978.\n",
      "<class '__main__.Student'>\n",
      "True\n",
      "True\n"
     ]
    }
   ],
   "source": [
    "class Student(Person):\n",
    "    def __init__(self,student_id,*args,**kwargs): # __init__ and __str__ are special methods called Dunder methods\n",
    "        super(Student,self) .__init__(*args,**kwargs)  # This calls the __init__ method of the parent class Person using super()\n",
    "        self._student_id=student_id  #super() call allows Student to reuse the Person class constructor.\n",
    "Abdul=Student(1,'Abdul','Khader',1978)  # ('Kevin', 'Boppanna', 2002) will be passed as *args to the Person class constructor through super()\n",
    "print(Abdul)  #Since the class doesn't have a __str__ or __repr__ method defined, the default __repr__ will print something like <class '__main__.Student'>\n",
    "print(type(Abdul))\n",
    "print(isinstance(Abdul,Person))\n",
    "print(isinstance(Abdul,object))"
   ]
  },
  {
   "cell_type": "markdown",
   "metadata": {
    "id": "HMrLd-AmORSL"
   },
   "source": [
    "**Overriding Methods**"
   ]
  },
  {
   "cell_type": "markdown",
   "metadata": {
    "id": "l7JrGEPuOYU5"
   },
   "source": [
    "Inheritance allows to add new methods to subclass and is useful to change the behaviour of the method defined in the super class. To override just define it again."
   ]
  },
  {
   "cell_type": "code",
   "execution_count": 22,
   "metadata": {
    "colab": {
     "base_uri": "https://localhost:8080/"
    },
    "id": "j92hNLosO-aC",
    "outputId": "b2438cee-773d-4021-dcee-843636acdf6e"
   },
   "outputs": [
    {
     "name": "stdout",
     "output_type": "stream",
     "text": [
      "Abdul Khader was born in 1978.And has ID:7\n"
     ]
    }
   ],
   "source": [
    "class Student(Person):\n",
    "    def __init__(self,student_id,*args,**kwargs):\n",
    "        super(Student,self).__init__(*args,**kwargs)\n",
    "        self._student_id=student_id\n",
    "    def __str__(self):\n",
    "        return super(Student,self).__str__()+ \"And has ID:%d\"  %self._student_id\n",
    "Abdul=Student(7,'Abdul','Khader',1978)\n",
    "print(Abdul)\n"
   ]
  },
  {
   "cell_type": "markdown",
   "metadata": {
    "id": "2K57fiGwUjNE"
   },
   "source": [
    "**Encapsulation**"
   ]
  },
  {
   "cell_type": "markdown",
   "metadata": {
    "id": "1e2Dw85SZRDA"
   },
   "source": [
    "\n",
    "1.Composition:Creating a simplified model and removing useless details from concepts\n",
    "\n",
    "2.Dynamic Extension( Dynamic Typing also called as DuckTyping):Polymorphism is the ability to use same syntax for objects of different types\n",
    "\n"
   ]
  },
  {
   "cell_type": "code",
   "execution_count": 26,
   "metadata": {
    "colab": {
     "base_uri": "https://localhost:8080/"
    },
    "id": "TE4DUtE6biUv",
    "outputId": "fe9bef5b-0b9c-4244-c117-1da7588319c1"
   },
   "outputs": [
    {
     "name": "stdout",
     "output_type": "stream",
     "text": [
      "2\n",
      "['a', 'b', 'c', 'd', 'e']\n",
      "abcdefghijk\n"
     ]
    }
   ],
   "source": [
    "def summer(a,b):\n",
    "    return (a+b)\n",
    "print(summer(1,1))\n",
    "print(summer(['a','b','c'],['d','e']))\n",
    "print(summer('abcd','efghijk'))"
   ]
  },
  {
   "cell_type": "markdown",
   "metadata": {
    "id": "yABPctaiedvx"
   },
   "source": [
    "**Files**"
   ]
  },
  {
   "cell_type": "markdown",
   "metadata": {
    "id": "Z8vOpwCPejMY"
   },
   "source": [
    "**Ipython Writing a File**"
   ]
  },
  {
   "cell_type": "code",
   "execution_count": 30,
   "metadata": {
    "colab": {
     "base_uri": "https://localhost:8080/"
    },
    "id": "t5UaCEpiewgZ",
    "outputId": "7e75e2dd-27b0-40f9-a7d9-ac4afb436ac1"
   },
   "outputs": [
    {
     "name": "stdout",
     "output_type": "stream",
     "text": [
      "Overwriting superman.txt\n"
     ]
    }
   ],
   "source": [
    "%%writefile superman.txt\n",
    "Hello, this is a quick superman test file"
   ]
  },
  {
   "cell_type": "markdown",
   "metadata": {
    "id": "9nCpDGMpfKdH"
   },
   "source": [
    "**Opening a File**"
   ]
  },
  {
   "cell_type": "code",
   "execution_count": 33,
   "metadata": {
    "id": "CRyl4RAIfsuk"
   },
   "outputs": [],
   "source": [
    "my_file=open('superman.txt')"
   ]
  },
  {
   "cell_type": "code",
   "execution_count": 35,
   "metadata": {
    "colab": {
     "base_uri": "https://localhost:8080/",
     "height": 36
    },
    "id": "5LUDPKGkf0Yn",
    "outputId": "b13e46b8-3bfc-4a49-d0c4-aff503335a86"
   },
   "outputs": [
    {
     "data": {
      "text/plain": [
       "'Hello, this is a quick superman test file\\n'"
      ]
     },
     "execution_count": 35,
     "metadata": {},
     "output_type": "execute_result"
    }
   ],
   "source": [
    "my_file.read()"
   ]
  },
  {
   "cell_type": "code",
   "execution_count": 37,
   "metadata": {
    "colab": {
     "base_uri": "https://localhost:8080/",
     "height": 36
    },
    "id": "oHcoKe84gU3O",
    "outputId": "3970b7e6-33fd-4584-c651-9a9321654383"
   },
   "outputs": [
    {
     "data": {
      "text/plain": [
       "''"
      ]
     },
     "execution_count": 37,
     "metadata": {},
     "output_type": "execute_result"
    }
   ],
   "source": [
    "my_file.read()"
   ]
  },
  {
   "cell_type": "code",
   "execution_count": 39,
   "metadata": {
    "colab": {
     "base_uri": "https://localhost:8080/"
    },
    "id": "sMQjJ1EqoRdG",
    "outputId": "d64cb40c-9029-4406-fec5-bdf723a66014"
   },
   "outputs": [
    {
     "data": {
      "text/plain": [
       "0"
      ]
     },
     "execution_count": 39,
     "metadata": {},
     "output_type": "execute_result"
    }
   ],
   "source": [
    "#seek():seek to the start of file (index 0)\n",
    "my_file.seek(0)"
   ]
  },
  {
   "cell_type": "code",
   "execution_count": 41,
   "metadata": {
    "colab": {
     "base_uri": "https://localhost:8080/"
    },
    "id": "bScr5ob_pFUg",
    "outputId": "869a54c7-1d89-42f4-b34f-5f79cd825487"
   },
   "outputs": [
    {
     "data": {
      "text/plain": [
       "['Hello, this is a quick superman test file\\n']"
      ]
     },
     "execution_count": 41,
     "metadata": {},
     "output_type": "execute_result"
    }
   ],
   "source": [
    "my_file.readlines()"
   ]
  },
  {
   "cell_type": "markdown",
   "metadata": {
    "id": "d4wVRwt5qNPz"
   },
   "source": [
    "**Writing to a File**"
   ]
  },
  {
   "cell_type": "code",
   "execution_count": 44,
   "metadata": {
    "id": "ch9cEhwWqSsu"
   },
   "outputs": [],
   "source": [
    "my_file=open('superman.txt','w+') #w refers to write"
   ]
  },
  {
   "cell_type": "code",
   "execution_count": 46,
   "metadata": {
    "colab": {
     "base_uri": "https://localhost:8080/"
    },
    "id": "CYBgV0yLqvlb",
    "outputId": "557a97e5-032a-408c-866b-c4096162d3ac"
   },
   "outputs": [
    {
     "data": {
      "text/plain": [
       "32"
      ]
     },
     "execution_count": 46,
     "metadata": {},
     "output_type": "execute_result"
    }
   ],
   "source": [
    "my_file.write('This is how write function works')"
   ]
  },
  {
   "cell_type": "code",
   "execution_count": 48,
   "metadata": {
    "colab": {
     "base_uri": "https://localhost:8080/"
    },
    "id": "9fudSx4IuTsE",
    "outputId": "7a6e7688-9591-4c11-ac93-f55c4fabb35e"
   },
   "outputs": [
    {
     "data": {
      "text/plain": [
       "0"
      ]
     },
     "execution_count": 48,
     "metadata": {},
     "output_type": "execute_result"
    }
   ],
   "source": [
    "my_file.seek(0)"
   ]
  },
  {
   "cell_type": "code",
   "execution_count": 50,
   "metadata": {
    "colab": {
     "base_uri": "https://localhost:8080/"
    },
    "id": "gGSBrLASuY00",
    "outputId": "5e86f22d-abfc-4c77-8bb4-8ce740fdb6c7"
   },
   "outputs": [
    {
     "data": {
      "text/plain": [
       "['This is how write function works']"
      ]
     },
     "execution_count": 50,
     "metadata": {},
     "output_type": "execute_result"
    }
   ],
   "source": [
    "my_file.readlines()"
   ]
  },
  {
   "cell_type": "markdown",
   "metadata": {
    "id": "k3u-6SfqvX0F"
   },
   "source": [
    "**Iterating through a File**"
   ]
  },
  {
   "cell_type": "code",
   "execution_count": 53,
   "metadata": {
    "colab": {
     "base_uri": "https://localhost:8080/"
    },
    "id": "ve9WEeOUvoQN",
    "outputId": "10fa64bf-f1de-476a-b6d3-a41ab56f2eb6"
   },
   "outputs": [
    {
     "name": "stdout",
     "output_type": "stream",
     "text": [
      "Writing test.txt\n"
     ]
    }
   ],
   "source": [
    "%%writefile test.txt\n",
    "First Line\n",
    "Second Line"
   ]
  },
  {
   "cell_type": "code",
   "execution_count": 55,
   "metadata": {
    "colab": {
     "base_uri": "https://localhost:8080/"
    },
    "id": "eXtl9Nvuv3v2",
    "outputId": "c6999c7c-8025-44e0-ab21-ccc1223e66ed"
   },
   "outputs": [
    {
     "name": "stdout",
     "output_type": "stream",
     "text": [
      "First Line\n",
      "\n",
      "Second Line\n",
      "\n"
     ]
    }
   ],
   "source": [
    "for line in open('test.txt'):\n",
    "    print(line)"
   ]
  },
  {
   "cell_type": "code",
   "execution_count": 57,
   "metadata": {
    "colab": {
     "base_uri": "https://localhost:8080/"
    },
    "id": "uAACqpNDwOxY",
    "outputId": "a83dfa72-1750-4f02-e4df-e06ce963560a"
   },
   "outputs": [
    {
     "name": "stdout",
     "output_type": "stream",
     "text": [
      "First Line\n",
      "\n",
      "Second Line\n",
      "\n"
     ]
    }
   ],
   "source": [
    "for asdf in open('test.txt'):\n",
    "    print(asdf)"
   ]
  },
  {
   "cell_type": "markdown",
   "metadata": {
    "id": "6f0gFsGDwpl5"
   },
   "source": [
    "**StringIO**\n",
    "\n",
    "Implements an in-memory file like object"
   ]
  },
  {
   "cell_type": "code",
   "execution_count": 60,
   "metadata": {
    "id": "ztQ_Vo6AwuTx"
   },
   "outputs": [],
   "source": [
    "from io import StringIO"
   ]
  },
  {
   "cell_type": "code",
   "execution_count": 62,
   "metadata": {
    "id": "uJFONg4BxTW1"
   },
   "outputs": [],
   "source": [
    "message='This is a normal string '"
   ]
  },
  {
   "cell_type": "code",
   "execution_count": 64,
   "metadata": {
    "id": "Ifbzg35QxbO4"
   },
   "outputs": [],
   "source": [
    "f=StringIO(message)"
   ]
  },
  {
   "cell_type": "code",
   "execution_count": 66,
   "metadata": {
    "colab": {
     "base_uri": "https://localhost:8080/",
     "height": 36
    },
    "id": "nQzAXH4xxk1m",
    "outputId": "96c18ad8-d625-434d-eaaf-004f7fd67e23"
   },
   "outputs": [
    {
     "data": {
      "text/plain": [
       "'This is a normal string '"
      ]
     },
     "execution_count": 66,
     "metadata": {},
     "output_type": "execute_result"
    }
   ],
   "source": [
    "f.read()"
   ]
  },
  {
   "cell_type": "code",
   "execution_count": 68,
   "metadata": {
    "colab": {
     "base_uri": "https://localhost:8080/"
    },
    "id": "z1TmUfSExs-r",
    "outputId": "fee19ce7-8429-485b-8ebf-1e9b2e63680f"
   },
   "outputs": [
    {
     "data": {
      "text/plain": [
       "44"
      ]
     },
     "execution_count": 68,
     "metadata": {},
     "output_type": "execute_result"
    }
   ],
   "source": [
    "f.write(' Second line written to the file like object')# o/p is the number of letters and spaces till the end of the line"
   ]
  },
  {
   "cell_type": "code",
   "execution_count": 70,
   "metadata": {
    "colab": {
     "base_uri": "https://localhost:8080/"
    },
    "id": "gGr6PmWzxja_",
    "outputId": "8ad79aca-f212-42ae-9ed9-603995439243"
   },
   "outputs": [
    {
     "data": {
      "text/plain": [
       "0"
      ]
     },
     "execution_count": 70,
     "metadata": {},
     "output_type": "execute_result"
    }
   ],
   "source": [
    "f.seek(0)"
   ]
  },
  {
   "cell_type": "code",
   "execution_count": 72,
   "metadata": {
    "colab": {
     "base_uri": "https://localhost:8080/",
     "height": 36
    },
    "id": "tlxH3Bmgyj8i",
    "outputId": "a42f5227-cf54-4e4a-fb88-a7d1edb6a6d0"
   },
   "outputs": [
    {
     "data": {
      "text/plain": [
       "'This is a normal string  Second line written to the file like object'"
      ]
     },
     "execution_count": 72,
     "metadata": {},
     "output_type": "execute_result"
    }
   ],
   "source": [
    "f.readline()"
   ]
  }
 ],
 "metadata": {
  "colab": {
   "authorship_tag": "ABX9TyNljUkzZhwQxGu21NtbkP2Q",
   "include_colab_link": true,
   "provenance": []
  },
  "kernelspec": {
   "display_name": "Python 3 (ipykernel)",
   "language": "python",
   "name": "python3"
  },
  "language_info": {
   "codemirror_mode": {
    "name": "ipython",
    "version": 3
   },
   "file_extension": ".py",
   "mimetype": "text/x-python",
   "name": "python",
   "nbconvert_exporter": "python",
   "pygments_lexer": "ipython3",
   "version": "3.12.4"
  }
 },
 "nbformat": 4,
 "nbformat_minor": 4
}
