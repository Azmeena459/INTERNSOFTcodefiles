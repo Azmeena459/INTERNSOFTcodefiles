{
  "nbformat": 4,
  "nbformat_minor": 0,
  "metadata": {
    "colab": {
      "provenance": [],
      "authorship_tag": "ABX9TyN4sj7a/SQH2IOk2XbufuGe",
      "include_colab_link": true
    },
    "kernelspec": {
      "name": "python3",
      "display_name": "Python 3"
    },
    "language_info": {
      "name": "python"
    }
  },
  "cells": [
    {
      "cell_type": "markdown",
      "metadata": {
        "id": "view-in-github",
        "colab_type": "text"
      },
      "source": [
        "<a href=\"https://colab.research.google.com/github/Azmeena459/INTERNSOFTcodefiles/blob/main/Day1.ipynb\" target=\"_parent\"><img src=\"https://colab.research.google.com/assets/colab-badge.svg\" alt=\"Open In Colab\"/></a>"
      ]
    },
    {
      "cell_type": "markdown",
      "source": [
        "Basics Of Python\n",
        "\n",
        "\n",
        "```\n",
        "# Fundamental Types\n",
        "```\n",
        "\n"
      ],
      "metadata": {
        "id": "oicc8KY_jfRb"
      }
    },
    {
      "cell_type": "code",
      "execution_count": null,
      "metadata": {
        "colab": {
          "base_uri": "https://localhost:8080/"
        },
        "id": "G1Vfbwg1hrfU",
        "outputId": "c6003464-4720-4801-d7e3-47c04fc73770"
      },
      "outputs": [
        {
          "output_type": "execute_result",
          "data": {
            "text/plain": [
              "int"
            ]
          },
          "metadata": {},
          "execution_count": 1
        }
      ],
      "source": [
        "#Fundamental Types\n",
        "#integers\n",
        "x=1\n",
        "type(x)"
      ]
    },
    {
      "cell_type": "code",
      "source": [
        "#Float\n",
        "x=5.000\n",
        "type(x)"
      ],
      "metadata": {
        "colab": {
          "base_uri": "https://localhost:8080/"
        },
        "id": "eyZAPInaicqw",
        "outputId": "f4049d59-8e08-4739-c286-5f781bbe68c0"
      },
      "execution_count": null,
      "outputs": [
        {
          "output_type": "execute_result",
          "data": {
            "text/plain": [
              "float"
            ]
          },
          "metadata": {},
          "execution_count": 2
        }
      ]
    },
    {
      "cell_type": "code",
      "source": [
        "#String\n",
        "x='Dog'\n",
        "type(x)"
      ],
      "metadata": {
        "colab": {
          "base_uri": "https://localhost:8080/"
        },
        "id": "y5Z4piG4in7g",
        "outputId": "e5841e2f-deb5-4f12-d483-7d640041356a"
      },
      "execution_count": null,
      "outputs": [
        {
          "output_type": "execute_result",
          "data": {
            "text/plain": [
              "str"
            ]
          },
          "metadata": {},
          "execution_count": 3
        }
      ]
    },
    {
      "cell_type": "code",
      "source": [
        "#Boolean\n",
        "a=True\n",
        "b=False\n",
        "type(a)"
      ],
      "metadata": {
        "colab": {
          "base_uri": "https://localhost:8080/"
        },
        "id": "BK8p11OSkISz",
        "outputId": "730c35c8-f7e3-49b2-e52b-5add68aa2d98"
      },
      "execution_count": null,
      "outputs": [
        {
          "output_type": "execute_result",
          "data": {
            "text/plain": [
              "bool"
            ]
          },
          "metadata": {},
          "execution_count": 8
        }
      ]
    },
    {
      "cell_type": "code",
      "source": [
        "#Complex\n",
        "x=2.0-5.6j\n",
        "type(x)"
      ],
      "metadata": {
        "colab": {
          "base_uri": "https://localhost:8080/"
        },
        "id": "Zlcv4dr8lbl2",
        "outputId": "757c511a-0b4a-4501-ce26-b6f7d3d0b5fa"
      },
      "execution_count": null,
      "outputs": [
        {
          "output_type": "execute_result",
          "data": {
            "text/plain": [
              "complex"
            ]
          },
          "metadata": {},
          "execution_count": 9
        }
      ]
    },
    {
      "cell_type": "code",
      "source": [
        "print(x)"
      ],
      "metadata": {
        "colab": {
          "base_uri": "https://localhost:8080/"
        },
        "id": "JlVJoh3DlpD2",
        "outputId": "30efb1ed-097e-47f0-983f-f6cf7fe29688"
      },
      "execution_count": null,
      "outputs": [
        {
          "output_type": "stream",
          "name": "stdout",
          "text": [
            "(2-5.6j)\n"
          ]
        }
      ]
    },
    {
      "cell_type": "code",
      "source": [
        "print(x.real,x.imag)"
      ],
      "metadata": {
        "colab": {
          "base_uri": "https://localhost:8080/"
        },
        "id": "A0yboirCls2l",
        "outputId": "bc898003-ad15-4abe-b632-4e72cccc8d05"
      },
      "execution_count": null,
      "outputs": [
        {
          "output_type": "stream",
          "name": "stdout",
          "text": [
            "2.0 -5.6\n"
          ]
        }
      ]
    },
    {
      "cell_type": "markdown",
      "source": [
        "Variables"
      ],
      "metadata": {
        "id": "fID60LgcpS8v"
      }
    },
    {
      "cell_type": "code",
      "source": [
        "#Defining\n",
        "tenth=10\n",
        "two=2\n",
        "print(tenth)\n",
        "two"
      ],
      "metadata": {
        "colab": {
          "base_uri": "https://localhost:8080/"
        },
        "id": "cesuzD7dmD4C",
        "outputId": "ef53a3b4-868a-43e2-87ba-b494806e114e"
      },
      "execution_count": 18,
      "outputs": [
        {
          "output_type": "stream",
          "name": "stdout",
          "text": [
            "10\n"
          ]
        },
        {
          "output_type": "execute_result",
          "data": {
            "text/plain": [
              "2"
            ]
          },
          "metadata": {},
          "execution_count": 18
        }
      ]
    },
    {
      "cell_type": "code",
      "source": [
        "#Dynamic Typing\n",
        "ten=10\n",
        "ten"
      ],
      "metadata": {
        "id": "KvglG5pkotps",
        "colab": {
          "base_uri": "https://localhost:8080/"
        },
        "outputId": "d7edc83c-431c-4535-cf9a-b0adabfea33d"
      },
      "execution_count": 19,
      "outputs": [
        {
          "output_type": "execute_result",
          "data": {
            "text/plain": [
              "10"
            ]
          },
          "metadata": {},
          "execution_count": 19
        }
      ]
    },
    {
      "cell_type": "code",
      "source": [
        "ten='ten'\n",
        "ten"
      ],
      "metadata": {
        "colab": {
          "base_uri": "https://localhost:8080/",
          "height": 36
        },
        "id": "ySFqpxajqTf_",
        "outputId": "09be3b98-e024-4d59-e900-1ed4af8cf683"
      },
      "execution_count": 20,
      "outputs": [
        {
          "output_type": "execute_result",
          "data": {
            "text/plain": [
              "'ten'"
            ],
            "application/vnd.google.colaboratory.intrinsic+json": {
              "type": "string"
            }
          },
          "metadata": {},
          "execution_count": 20
        }
      ]
    },
    {
      "cell_type": "code",
      "source": [
        "#Strong Typing\n",
        "'day'+ '1'"
      ],
      "metadata": {
        "colab": {
          "base_uri": "https://localhost:8080/",
          "height": 36
        },
        "id": "VLt0HkenqZVV",
        "outputId": "75a55826-5894-4e29-df21-1e885d871a34"
      },
      "execution_count": 21,
      "outputs": [
        {
          "output_type": "execute_result",
          "data": {
            "text/plain": [
              "'day1'"
            ],
            "application/vnd.google.colaboratory.intrinsic+json": {
              "type": "string"
            }
          },
          "metadata": {},
          "execution_count": 21
        }
      ]
    },
    {
      "cell_type": "code",
      "source": [
        "'day'+str(1)"
      ],
      "metadata": {
        "colab": {
          "base_uri": "https://localhost:8080/",
          "height": 36
        },
        "id": "oIdcr61HqlSW",
        "outputId": "cd8b3cfb-a6a1-4a79-9405-c5f16d30dfa2"
      },
      "execution_count": 22,
      "outputs": [
        {
          "output_type": "execute_result",
          "data": {
            "text/plain": [
              "'day1'"
            ],
            "application/vnd.google.colaboratory.intrinsic+json": {
              "type": "string"
            }
          },
          "metadata": {},
          "execution_count": 22
        }
      ]
    },
    {
      "cell_type": "markdown",
      "source": [
        "Simple Expressions\n",
        "\n",
        "\n",
        "```\n",
        "# Boolean Evaluation\n",
        "```"
      ],
      "metadata": {
        "id": "Sph4y2EyqsKc"
      }
    },
    {
      "cell_type": "code",
      "source": [
        "True and True"
      ],
      "metadata": {
        "colab": {
          "base_uri": "https://localhost:8080/"
        },
        "id": "ZIRPY0UXq5f2",
        "outputId": "211ccbca-f11e-4848-896f-7b4e1e8ea1d6"
      },
      "execution_count": 23,
      "outputs": [
        {
          "output_type": "execute_result",
          "data": {
            "text/plain": [
              "True"
            ]
          },
          "metadata": {},
          "execution_count": 23
        }
      ]
    },
    {
      "cell_type": "code",
      "source": [
        "True or False"
      ],
      "metadata": {
        "colab": {
          "base_uri": "https://localhost:8080/"
        },
        "id": "Cn5bfRgdq9k7",
        "outputId": "2d84028c-4b61-457b-fffd-d667943c8157"
      },
      "execution_count": 24,
      "outputs": [
        {
          "output_type": "execute_result",
          "data": {
            "text/plain": [
              "True"
            ]
          },
          "metadata": {},
          "execution_count": 24
        }
      ]
    },
    {
      "cell_type": "code",
      "source": [
        "not True"
      ],
      "metadata": {
        "colab": {
          "base_uri": "https://localhost:8080/"
        },
        "id": "DfjHOcC5rL3z",
        "outputId": "195488e4-2a74-426a-e1d5-d10796130d5e"
      },
      "execution_count": 25,
      "outputs": [
        {
          "output_type": "execute_result",
          "data": {
            "text/plain": [
              "False"
            ]
          },
          "metadata": {},
          "execution_count": 25
        }
      ]
    },
    {
      "cell_type": "code",
      "source": [
        "not False"
      ],
      "metadata": {
        "colab": {
          "base_uri": "https://localhost:8080/"
        },
        "id": "YtWcne_0rSgg",
        "outputId": "933b4617-a2b9-4fbd-c47c-8488045c2c93"
      },
      "execution_count": 26,
      "outputs": [
        {
          "output_type": "execute_result",
          "data": {
            "text/plain": [
              "True"
            ]
          },
          "metadata": {},
          "execution_count": 26
        }
      ]
    },
    {
      "cell_type": "code",
      "source": [
        "True is True"
      ],
      "metadata": {
        "colab": {
          "base_uri": "https://localhost:8080/"
        },
        "id": "4iaD6ULqrZhX",
        "outputId": "ae02a66f-62cc-485a-9f9e-501bafebc49b"
      },
      "execution_count": 27,
      "outputs": [
        {
          "output_type": "execute_result",
          "data": {
            "text/plain": [
              "True"
            ]
          },
          "metadata": {},
          "execution_count": 27
        }
      ]
    },
    {
      "cell_type": "code",
      "source": [
        "True is False"
      ],
      "metadata": {
        "colab": {
          "base_uri": "https://localhost:8080/"
        },
        "id": "4GTIt4GPrd2G",
        "outputId": "27cf11d6-c93b-4aea-fdd9-a0e9dc82e5ea"
      },
      "execution_count": 28,
      "outputs": [
        {
          "output_type": "execute_result",
          "data": {
            "text/plain": [
              "False"
            ]
          },
          "metadata": {},
          "execution_count": 28
        }
      ]
    },
    {
      "cell_type": "code",
      "source": [
        "'a' is 'a'"
      ],
      "metadata": {
        "colab": {
          "base_uri": "https://localhost:8080/"
        },
        "id": "jlSejWaJrh89",
        "outputId": "1d45a809-63a2-4aca-dc51-03f677a2b584"
      },
      "execution_count": 31,
      "outputs": [
        {
          "output_type": "stream",
          "name": "stderr",
          "text": [
            "<>:1: SyntaxWarning: \"is\" with a literal. Did you mean \"==\"?\n",
            "<>:1: SyntaxWarning: \"is\" with a literal. Did you mean \"==\"?\n",
            "<ipython-input-31-e2fa3e0bad77>:1: SyntaxWarning: \"is\" with a literal. Did you mean \"==\"?\n",
            "  'a' is 'a'\n"
          ]
        },
        {
          "output_type": "execute_result",
          "data": {
            "text/plain": [
              "True"
            ]
          },
          "metadata": {},
          "execution_count": 31
        }
      ]
    },
    {
      "cell_type": "code",
      "source": [
        "'a'=='a'"
      ],
      "metadata": {
        "colab": {
          "base_uri": "https://localhost:8080/"
        },
        "id": "1CelGpBwru8Z",
        "outputId": "ffcbeeb0-bcd9-4f71-dd7f-7ab276894021"
      },
      "execution_count": 32,
      "outputs": [
        {
          "output_type": "execute_result",
          "data": {
            "text/plain": [
              "True"
            ]
          },
          "metadata": {},
          "execution_count": 32
        }
      ]
    },
    {
      "cell_type": "markdown",
      "source": [
        "Branching (if / elif / else)"
      ],
      "metadata": {
        "id": "ZzCG_gAAr4zO"
      }
    },
    {
      "cell_type": "code",
      "source": [
        "i = 8\n",
        "if i < 3:\n",
        "    print('less than 3')\n",
        "elif i<5:\n",
        "        print('less than 5')\n",
        "else:\n",
        "        print ('5 or more')"
      ],
      "metadata": {
        "colab": {
          "base_uri": "https://localhost:8080/"
        },
        "id": "-NHcQrUFr7Tc",
        "outputId": "a2375d71-8ec9-4753-e485-bb8d85c2264e"
      },
      "execution_count": 34,
      "outputs": [
        {
          "output_type": "stream",
          "name": "stdout",
          "text": [
            "5 or more\n"
          ]
        }
      ]
    },
    {
      "cell_type": "code",
      "source": [
        "j=10\n",
        "if j<10:\n",
        "    print(\"lesser than 10\")\n",
        "else:\n",
        "  print(\"greater than 10\")\n",
        ""
      ],
      "metadata": {
        "colab": {
          "base_uri": "https://localhost:8080/"
        },
        "id": "T5TRiBkNsIKg",
        "outputId": "f11f1e9e-3dd3-45e1-b1fe-cea95bdc1a91"
      },
      "execution_count": 37,
      "outputs": [
        {
          "output_type": "stream",
          "name": "stdout",
          "text": [
            "greater than 10\n"
          ]
        }
      ]
    },
    {
      "cell_type": "markdown",
      "source": [
        "# Block Structure and Whitespace\n",
        "# Advanced Types: Containers"
      ],
      "metadata": {
        "id": "2D68C3NZsmZz"
      }
    },
    {
      "cell_type": "code",
      "source": [
        "#Lists\n",
        "l=[]\n",
        "l"
      ],
      "metadata": {
        "colab": {
          "base_uri": "https://localhost:8080/"
        },
        "id": "7szvfGI5s957",
        "outputId": "ffbe4f55-c6c4-4ec4-c426-2531ac44f503"
      },
      "execution_count": 40,
      "outputs": [
        {
          "output_type": "execute_result",
          "data": {
            "text/plain": [
              "[]"
            ]
          },
          "metadata": {},
          "execution_count": 40
        }
      ]
    },
    {
      "cell_type": "code",
      "source": [
        "l=list()\n",
        "l"
      ],
      "metadata": {
        "colab": {
          "base_uri": "https://localhost:8080/"
        },
        "id": "RG-eoHo9tLcR",
        "outputId": "6090ea24-c9f0-4228-a30f-6e4dbc01b032"
      },
      "execution_count": 41,
      "outputs": [
        {
          "output_type": "execute_result",
          "data": {
            "text/plain": [
              "[]"
            ]
          },
          "metadata": {},
          "execution_count": 41
        }
      ]
    },
    {
      "cell_type": "code",
      "source": [
        "l=['a','b','c']\n",
        "l"
      ],
      "metadata": {
        "colab": {
          "base_uri": "https://localhost:8080/"
        },
        "id": "wOd4QWKwtSOm",
        "outputId": "e3869aa8-6459-4bac-8cec-58ce4d4246e3"
      },
      "execution_count": 42,
      "outputs": [
        {
          "output_type": "execute_result",
          "data": {
            "text/plain": [
              "['a', 'b', 'c']"
            ]
          },
          "metadata": {},
          "execution_count": 42
        }
      ]
    },
    {
      "cell_type": "code",
      "source": [
        "l=['a',6]\n",
        "l"
      ],
      "metadata": {
        "colab": {
          "base_uri": "https://localhost:8080/"
        },
        "id": "VO6PxCC7tX9q",
        "outputId": "09f1d16c-3d04-4d7f-a445-598983889f32"
      },
      "execution_count": 43,
      "outputs": [
        {
          "output_type": "execute_result",
          "data": {
            "text/plain": [
              "['a', 6]"
            ]
          },
          "metadata": {},
          "execution_count": 43
        }
      ]
    },
    {
      "cell_type": "code",
      "source": [
        "l2=list(l)\n",
        "l2"
      ],
      "metadata": {
        "colab": {
          "base_uri": "https://localhost:8080/"
        },
        "id": "U0djfD9gtcTw",
        "outputId": "ebb7a614-15ba-4e9d-bcaf-b3b5553436ec"
      },
      "execution_count": 44,
      "outputs": [
        {
          "output_type": "execute_result",
          "data": {
            "text/plain": [
              "['a', 6]"
            ]
          },
          "metadata": {},
          "execution_count": 44
        }
      ]
    },
    {
      "cell_type": "code",
      "source": [
        "list('abcdef')"
      ],
      "metadata": {
        "colab": {
          "base_uri": "https://localhost:8080/"
        },
        "id": "flNNS15etgUe",
        "outputId": "860587b6-f54a-4b35-c821-172cfef95676"
      },
      "execution_count": 45,
      "outputs": [
        {
          "output_type": "execute_result",
          "data": {
            "text/plain": [
              "['a', 'b', 'c', 'd', 'e', 'f']"
            ]
          },
          "metadata": {},
          "execution_count": 45
        }
      ]
    },
    {
      "cell_type": "code",
      "source": [
        "l=[1,2]\n",
        "print(l)\n",
        "l.append('b')\n",
        "print(l)\n",
        "l.append('c')\n",
        "print(l)\n",
        "l.insert(1,56)\n",
        "l"
      ],
      "metadata": {
        "colab": {
          "base_uri": "https://localhost:8080/"
        },
        "id": "3k5NcMSHtkqf",
        "outputId": "bda51b9e-0630-47fb-c59b-bfa8e99aa2e6"
      },
      "execution_count": 46,
      "outputs": [
        {
          "output_type": "stream",
          "name": "stdout",
          "text": [
            "[1, 2]\n",
            "[1, 2, 'b']\n",
            "[1, 2, 'b', 'c']\n"
          ]
        },
        {
          "output_type": "execute_result",
          "data": {
            "text/plain": [
              "[1, 56, 2, 'b', 'c']"
            ]
          },
          "metadata": {},
          "execution_count": 46
        }
      ]
    },
    {
      "cell_type": "code",
      "source": [
        "print(l)\n",
        "#for i in l:\n",
        "#print(i)"
      ],
      "metadata": {
        "colab": {
          "base_uri": "https://localhost:8080/"
        },
        "id": "VnAUHy-stmae",
        "outputId": "7c5db615-f84c-436f-e0e3-02b355434c8b"
      },
      "execution_count": 47,
      "outputs": [
        {
          "output_type": "stream",
          "name": "stdout",
          "text": [
            "[1, 56, 2, 'b', 'c']\n"
          ]
        }
      ]
    },
    {
      "cell_type": "markdown",
      "source": [
        "# loops"
      ],
      "metadata": {
        "id": "gyNEfWx4twZH"
      }
    },
    {
      "cell_type": "code",
      "source": [
        "#For loop\n",
        "# Program to find the sum of all numbers stored in a list\n",
        "\n",
        "# List of numbers\n",
        "numbers=[6,5,4,3,5,2]\n",
        "# variable to store the sum\n",
        "sum = 0\n",
        "# iterate over the list\n",
        "for i in numbers:\n",
        " sum = sum + i\n",
        "# Output: The sum is 48\n",
        "print(\"The sum is\", sum)\n",
        "sum"
      ],
      "metadata": {
        "colab": {
          "base_uri": "https://localhost:8080/"
        },
        "id": "rMcTLun6t4Bn",
        "outputId": "1d481685-b9d8-48a9-9f5a-aa1bf9f1abe6"
      },
      "execution_count": 48,
      "outputs": [
        {
          "output_type": "stream",
          "name": "stdout",
          "text": [
            "The sum is 25\n"
          ]
        },
        {
          "output_type": "execute_result",
          "data": {
            "text/plain": [
              "25"
            ]
          },
          "metadata": {},
          "execution_count": 48
        }
      ]
    },
    {
      "cell_type": "code",
      "source": [
        "#for loop with else\n",
        "digits = [0,1,5]\n",
        "for i in digits:\n",
        "    print(i)\n",
        "else:\n",
        "        print(\"no items left.\")"
      ],
      "metadata": {
        "colab": {
          "base_uri": "https://localhost:8080/"
        },
        "id": "ENmdl-uZvMns",
        "outputId": "79cc2e1f-7337-4095-8c1d-981ab408994b"
      },
      "execution_count": 49,
      "outputs": [
        {
          "output_type": "stream",
          "name": "stdout",
          "text": [
            "0\n",
            "1\n",
            "5\n",
            "no items left.\n"
          ]
        }
      ]
    },
    {
      "cell_type": "code",
      "source": [
        "#While loop\n",
        "# Program to add natural\n",
        "# numbers upto\n",
        "# sum = 1+2+3+...+n\n",
        "\n",
        "# To take input from the user,\n",
        "n = int(input(\"Enter n: \"))\n",
        "\n",
        "# initialize sum and counter\n",
        "sum = 0\n",
        "i = 1\n",
        "while i <= n:\n",
        "    sum = sum + i\n",
        "    i = i+1    # update counter\n",
        "\n",
        "# print the sum\n",
        "print(\"The sum is\", sum)"
      ],
      "metadata": {
        "colab": {
          "base_uri": "https://localhost:8080/"
        },
        "id": "LZwQa4C3vbuV",
        "outputId": "10c93ec6-2497-4c9b-e55f-7fb984abd9fd"
      },
      "execution_count": 50,
      "outputs": [
        {
          "output_type": "stream",
          "name": "stdout",
          "text": [
            "Enter n: 5\n",
            "The sum is 15\n"
          ]
        }
      ]
    },
    {
      "cell_type": "code",
      "source": [
        "#The range() function\n",
        "print(range(10))"
      ],
      "metadata": {
        "colab": {
          "base_uri": "https://localhost:8080/"
        },
        "id": "rY1UziWNvw7O",
        "outputId": "42df7cfa-21e8-4ad8-8d14-5a93fbad1697"
      },
      "execution_count": 51,
      "outputs": [
        {
          "output_type": "stream",
          "name": "stdout",
          "text": [
            "range(0, 10)\n"
          ]
        }
      ]
    },
    {
      "cell_type": "code",
      "source": [
        "print(list(range(10)))"
      ],
      "metadata": {
        "colab": {
          "base_uri": "https://localhost:8080/"
        },
        "id": "nIQPOwokwIFv",
        "outputId": "26f56d22-4075-43a5-d833-d8c60d03103a"
      },
      "execution_count": 52,
      "outputs": [
        {
          "output_type": "stream",
          "name": "stdout",
          "text": [
            "[0, 1, 2, 3, 4, 5, 6, 7, 8, 9]\n"
          ]
        }
      ]
    },
    {
      "cell_type": "code",
      "source": [
        "print(list(range(2,8)))"
      ],
      "metadata": {
        "colab": {
          "base_uri": "https://localhost:8080/"
        },
        "id": "w89P0u5pwMWD",
        "outputId": "2aadad27-bdf9-48c8-fd63-a944421a934b"
      },
      "execution_count": 53,
      "outputs": [
        {
          "output_type": "stream",
          "name": "stdout",
          "text": [
            "[2, 3, 4, 5, 6, 7]\n"
          ]
        }
      ]
    },
    {
      "cell_type": "code",
      "source": [
        "print(list(range(2,20,5)))"
      ],
      "metadata": {
        "colab": {
          "base_uri": "https://localhost:8080/"
        },
        "id": "t_yRr8oIwQNk",
        "outputId": "88a917bd-9130-4635-d889-e3aff3ce6bc0"
      },
      "execution_count": 54,
      "outputs": [
        {
          "output_type": "stream",
          "name": "stdout",
          "text": [
            "[2, 7, 12, 17]\n"
          ]
        }
      ]
    },
    {
      "cell_type": "code",
      "source": [
        "# Program to iterate through a list using indexing\n",
        "\n",
        "genre = ['pop','rock','jazz','sapna']\n",
        "# iterate over the list using index\n",
        "for i in range(len(genre)):\n",
        "    print (\"I like\",genre[i])"
      ],
      "metadata": {
        "colab": {
          "base_uri": "https://localhost:8080/"
        },
        "id": "1N1vzAGqwUh9",
        "outputId": "a56bc12c-5bf8-4ee3-d802-9e5f6a129bdc"
      },
      "execution_count": 55,
      "outputs": [
        {
          "output_type": "stream",
          "name": "stdout",
          "text": [
            "I like pop\n",
            "I like rock\n",
            "I like jazz\n",
            "I like sapna\n"
          ]
        }
      ]
    },
    {
      "cell_type": "markdown",
      "source": [
        "# break and continue statement\n",
        "\n"
      ],
      "metadata": {
        "id": "yT9XEBnTwcwA"
      }
    },
    {
      "cell_type": "code",
      "source": [
        "#break\n",
        "# Use of break statement inside loop\n",
        "for val in \"HARSHITHA\":\n",
        "    if val == \"I\":\n",
        "      break\n",
        "    print(val)\n",
        "print(\"The end\")"
      ],
      "metadata": {
        "colab": {
          "base_uri": "https://localhost:8080/"
        },
        "id": "spF4aNA1whVz",
        "outputId": "0e4f7bc9-d60b-4dd9-b274-44f5b1e07299"
      },
      "execution_count": 63,
      "outputs": [
        {
          "output_type": "stream",
          "name": "stdout",
          "text": [
            "H\n",
            "A\n",
            "R\n",
            "S\n",
            "H\n",
            "The end\n"
          ]
        }
      ]
    },
    {
      "cell_type": "code",
      "source": [
        "#continue\n",
        "# Use of continue statement inside loop\n",
        "for val in \"HARSHITHA\":\n",
        "    if val == \"I\":\n",
        "      continue\n",
        "    print(val)\n",
        "print(\"The end\")"
      ],
      "metadata": {
        "colab": {
          "base_uri": "https://localhost:8080/"
        },
        "id": "Pq1wQhS1wx3d",
        "outputId": "04837c43-d58f-4753-a65c-a967a7bda0cc"
      },
      "execution_count": 64,
      "outputs": [
        {
          "output_type": "stream",
          "name": "stdout",
          "text": [
            "H\n",
            "A\n",
            "R\n",
            "S\n",
            "H\n",
            "T\n",
            "H\n",
            "A\n",
            "The end\n"
          ]
        }
      ]
    },
    {
      "cell_type": "code",
      "source": [
        "name = input(\"What is your name?\\n \")\n",
        "type(name)"
      ],
      "metadata": {
        "colab": {
          "base_uri": "https://localhost:8080/"
        },
        "id": "A-XE-OwTyMyt",
        "outputId": "9936f85b-d09e-4844-b2a6-83ae1571086e"
      },
      "execution_count": 69,
      "outputs": [
        {
          "name": "stdout",
          "output_type": "stream",
          "text": [
            "What is your name?\n",
            " Azmeena\n"
          ]
        },
        {
          "output_type": "execute_result",
          "data": {
            "text/plain": [
              "str"
            ]
          },
          "metadata": {},
          "execution_count": 69
        }
      ]
    },
    {
      "cell_type": "code",
      "source": [
        "age = int(input(\"What is your age? \"))\n",
        "print (\"Your age is: \", age)\n",
        "type(age)"
      ],
      "metadata": {
        "colab": {
          "base_uri": "https://localhost:8080/"
        },
        "id": "_kWq44FsymrD",
        "outputId": "b5e9716b-2153-431a-bf29-6b49c4c42402"
      },
      "execution_count": 67,
      "outputs": [
        {
          "output_type": "stream",
          "name": "stdout",
          "text": [
            "What is your age? 22\n",
            "Your age is:  22\n"
          ]
        },
        {
          "output_type": "execute_result",
          "data": {
            "text/plain": [
              "int"
            ]
          },
          "metadata": {},
          "execution_count": 67
        }
      ]
    },
    {
      "cell_type": "code",
      "source": [
        "name = input(\"What is your name? \")\n",
        "print (\" It was nice talking you \" + name + \"!\")\n",
        "age = input(\"Enter your age? \")\n",
        "print(\"Hey, you are already \" + age + \" years old, \" + name + \"!\")"
      ],
      "metadata": {
        "colab": {
          "base_uri": "https://localhost:8080/"
        },
        "id": "4jRFA03Zypih",
        "outputId": "6a032238-3302-45c6-9cc3-a0b53fbb4084"
      },
      "execution_count": 68,
      "outputs": [
        {
          "output_type": "stream",
          "name": "stdout",
          "text": [
            "What is your name? Azmeena\n",
            " It was nice talking you Azmeena!\n",
            "Enter your age? 22\n",
            "Hey, you are already 22 years old, Azmeena!\n"
          ]
        }
      ]
    }
  ]
}